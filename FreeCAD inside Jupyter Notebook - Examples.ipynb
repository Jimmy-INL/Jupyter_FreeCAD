{
 "cells": [
  {
   "cell_type": "markdown",
   "metadata": {},
   "source": [
    "# FreeCAD Jupyter translation\n",
    "\n",
    "First we load required libraries for the translation from FreeCAD Coin3D scene graph to a pythreejs WebGL rendering scene. And even before that make sure you have a working FreeCAD and python3 setup. Then install pythreejs:\n",
    "\n",
    "```\n",
    "pip3 install pythreejs\n",
    "jupyter nbextension install --py --symlink --sys-prefix pythreejs\n",
    "jupyter nbextension enable --py --sys-prefix pythreejs   \n",
    "```"
   ]
  },
  {
   "cell_type": "markdown",
   "metadata": {},
   "source": [
    "The following function will do the job: `freecadviewer.render_document` is everything that you need to know in order to render your FreeCAD document.\n",
    "\n",
    "For this to work we need to iterate over the entire scene graph and extract the edges and surfaces. By default we grab the face and edge representations (by chosing the right switch node children. The switch node allows switching between different FreeCAD views such as showing the mesh, surface, only edges etc.)\n",
    "\n",
    "To view the scene graph structure in a convenient way open `FreeCAD > Tools > view scene graph` in the GUI. That's how I verified the locations of `SoIndexedFaceSet` and the corresponding `SoCoordinate3` object. The coordinates switch node children refer to are always the coordinates in the root of the object. So one level below the document root node."
   ]
  },
  {
   "cell_type": "markdown",
   "metadata": {},
   "source": [
    "## Importing FreeCAD\n",
    "\n",
    "Now we can verify that these functions do what they are supposed to do. First we add the JUPYTER_REPO_PATH (path to the Github repository this file is part of. Not necessary right now, but this will be used at a later stage of development) and the FreeCAD shared library path. Then we just import FreeCAD and set it up for headless usage. No firing up the desktop app!"
   ]
  },
  {
   "cell_type": "code",
   "execution_count": 1,
   "metadata": {},
   "outputs": [],
   "source": [
    "import sys, os\n",
    "\n",
    "JUPYTER_REPO_PATH = \"/opt/jupyter_freecad/\"\n",
    "\n",
    "sys.path.append(\"/opt/freecad/freecad_build/lib\")\n",
    "sys.path.append(JUPYTER_REPO_PATH + \"IPythonFreeCADViewer\")\n",
    "\n",
    "import FreeCAD, FreeCADGui\n",
    "from freecadviewer import render_document\n",
    "\n",
    "FreeCADGui.setupWithoutGUI()"
   ]
  },
  {
   "cell_type": "markdown",
   "metadata": {},
   "source": [
    "Creating a document with objects and a scene graph to be iterated over later on."
   ]
  },
  {
   "cell_type": "code",
   "execution_count": 2,
   "metadata": {},
   "outputs": [],
   "source": [
    "doc = FreeCAD.newDocument(\"test_document\")\n",
    "doc.addObject(\"Part::Box\",\"Box\")\n",
    "doc.addObject(\"Part::Cylinder\",\"Cylinder\")\n",
    "doc.addObject(\"Part::Sphere\",\"Sphere\")\n",
    "doc.addObject(\"Part::Torus\",\"Torus\")\n",
    "doc.recompute()\n",
    "doc.FileName = \"test_document.FCStd\"\n",
    "doc.save()"
   ]
  },
  {
   "cell_type": "markdown",
   "metadata": {},
   "source": [
    "Now if everything works as expected this is all we need to render the 3D view right in the notebook:"
   ]
  },
  {
   "cell_type": "code",
   "execution_count": 3,
   "metadata": {},
   "outputs": [
    {
     "data": {
      "application/vnd.jupyter.widget-view+json": {
       "model_id": "6f6ceea1ba46491da49261c1c244c850",
       "version_major": 2,
       "version_minor": 0
      },
      "text/plain": [
       "Renderer(camera=PerspectiveCamera(fov=40.0, position=(0.0, -40.0, 20.0), quaternion=(0.0, 0.0, 0.0, 1.0), scal…"
      ]
     },
     "metadata": {},
     "output_type": "display_data"
    },
    {
     "data": {
      "application/vnd.jupyter.widget-view+json": {
       "model_id": "646dca2f036a45d386fd7053111ea112",
       "version_major": 2,
       "version_minor": 0
      },
      "text/plain": [
       "HTML(value='<b>No selection.</b>')"
      ]
     },
     "metadata": {},
     "output_type": "display_data"
    }
   ],
   "source": [
    "render_document(doc)"
   ]
  },
  {
   "cell_type": "markdown",
   "metadata": {},
   "source": [
    "# Renderer settings\n",
    "\n",
    "There are a few options to modify what is being rendered, you can enable or disable the rendering of faces, edges, normals and face meshes. We can also check what the default config is:"
   ]
  },
  {
   "cell_type": "code",
   "execution_count": 4,
   "metadata": {},
   "outputs": [
    {
     "name": "stdout",
     "output_type": "stream",
     "text": [
      "{'show_mesh': False, 'show_edges': True, 'show_faces': True, 'show_normals': False, 'selection_mode': 'mousemove'}\n"
     ]
    }
   ],
   "source": [
    "from freecadviewer import RendererConfig\n",
    "\n",
    "renderer_config = RendererConfig()\n",
    "renderer_config.show_config()"
   ]
  },
  {
   "cell_type": "markdown",
   "metadata": {},
   "source": [
    "Now we can modify these settings to our wishes:"
   ]
  },
  {
   "cell_type": "code",
   "execution_count": 5,
   "metadata": {},
   "outputs": [
    {
     "data": {
      "application/vnd.jupyter.widget-view+json": {
       "model_id": "08c4b261a66f4875ad16c16e2cb53090",
       "version_major": 2,
       "version_minor": 0
      },
      "text/plain": [
       "Renderer(camera=PerspectiveCamera(fov=40.0, position=(0.0, -40.0, 20.0), quaternion=(0.0, 0.0, 0.0, 1.0), scal…"
      ]
     },
     "metadata": {},
     "output_type": "display_data"
    },
    {
     "data": {
      "application/vnd.jupyter.widget-view+json": {
       "model_id": "6eaaf34ad72c4736b8a35fe4e32f2bf5",
       "version_major": 2,
       "version_minor": 0
      },
      "text/plain": [
       "HTML(value='')"
      ]
     },
     "metadata": {},
     "output_type": "display_data"
    }
   ],
   "source": [
    "renderer_config.selection_mode = None\n",
    "renderer_config.show_edges = False\n",
    "render_document(doc, renderer_config)"
   ]
  },
  {
   "cell_type": "code",
   "execution_count": 6,
   "metadata": {},
   "outputs": [
    {
     "data": {
      "application/vnd.jupyter.widget-view+json": {
       "model_id": "11adb5fd249c4c41be3e2321faa8c58c",
       "version_major": 2,
       "version_minor": 0
      },
      "text/plain": [
       "Renderer(camera=PerspectiveCamera(fov=40.0, position=(0.0, -40.0, 20.0), quaternion=(0.0, 0.0, 0.0, 1.0), scal…"
      ]
     },
     "metadata": {},
     "output_type": "display_data"
    },
    {
     "data": {
      "application/vnd.jupyter.widget-view+json": {
       "model_id": "476810663ef94730bdf46b1fd8e86320",
       "version_major": 2,
       "version_minor": 0
      },
      "text/plain": [
       "HTML(value='')"
      ]
     },
     "metadata": {},
     "output_type": "display_data"
    }
   ],
   "source": [
    "renderer_config.show_mesh = True\n",
    "renderer_config.show_normals = True\n",
    "render_document(doc, renderer_config)"
   ]
  },
  {
   "cell_type": "markdown",
   "metadata": {},
   "source": [
    "# Taking advantage of Ipython plugins\n",
    "## ipywidgets example\n",
    "\n",
    "The following code will display an interactive view that will modify FreeCAD document content based on interacive user input via the ipywidget UI elements."
   ]
  },
  {
   "cell_type": "code",
   "execution_count": 7,
   "metadata": {},
   "outputs": [
    {
     "data": {
      "application/vnd.jupyter.widget-view+json": {
       "model_id": "12b5077bdfab41a489bdeb2e7c701f59",
       "version_major": 2,
       "version_minor": 0
      },
      "text/plain": [
       "interactive(children=(Checkbox(value=True, description='box'), Checkbox(value=False, description='cylinder'), …"
      ]
     },
     "metadata": {},
     "output_type": "display_data"
    }
   ],
   "source": [
    "from ipywidgets import interact\n",
    "import ipywidgets as widgets\n",
    "\n",
    "doc = FreeCAD.newDocument()\n",
    "doc.addObject(\"Part::Box\",\"Box\")\n",
    "\n",
    "def create_scene(box, cylinder, sphere, torus):\n",
    "    if box:\n",
    "        if not doc.getObject(\"Box\"):\n",
    "            doc.addObject(\"Part::Box\",\"Box\")\n",
    "    elif doc.getObject(\"Box\"):\n",
    "        doc.removeObject(\"Box\")\n",
    "    if cylinder:\n",
    "        if not doc.getObject(\"Cylinder\"):\n",
    "            doc.addObject(\"Part::Cylinder\",\"Cylinder\")\n",
    "    elif doc.getObject(\"Cylinder\"):\n",
    "        doc.removeObject(\"Cylinder\")\n",
    "    if sphere:\n",
    "        if not doc.getObject(\"Sphere\"):\n",
    "            doc.addObject(\"Part::Sphere\",\"Sphere\")\n",
    "    elif doc.getObject(\"Sphere\"):\n",
    "        doc.removeObject(\"Sphere\")\n",
    "    if torus:\n",
    "        if not doc.getObject(\"Torus\"):\n",
    "            doc.addObject(\"Part::Torus\",\"Torus\")\n",
    "    elif doc.getObject(\"Torus\"):\n",
    "        doc.removeObject(\"Torus\")\n",
    "    doc.recompute()\n",
    "\n",
    "    return render_document(doc)\n",
    "\n",
    "interact(create_scene, box=True, cylinder=False, sphere=False, torus=False);"
   ]
  },
  {
   "cell_type": "markdown",
   "metadata": {},
   "source": [
    "# Opening the previously saved document"
   ]
  },
  {
   "cell_type": "code",
   "execution_count": 8,
   "metadata": {},
   "outputs": [
    {
     "data": {
      "application/vnd.jupyter.widget-view+json": {
       "model_id": "766373fd48b047f794ccc3fc89304b4b",
       "version_major": 2,
       "version_minor": 0
      },
      "text/plain": [
       "Renderer(camera=PerspectiveCamera(fov=40.0, position=(0.0, -40.0, 20.0), quaternion=(0.0, 0.0, 0.0, 1.0), scal…"
      ]
     },
     "metadata": {},
     "output_type": "display_data"
    },
    {
     "data": {
      "application/vnd.jupyter.widget-view+json": {
       "model_id": "8fec6b0e1d514c8390b2161a4787dc15",
       "version_major": 2,
       "version_minor": 0
      },
      "text/plain": [
       "HTML(value='<b>No selection.</b>')"
      ]
     },
     "metadata": {},
     "output_type": "display_data"
    }
   ],
   "source": [
    "doc = FreeCAD.openDocument(JUPYTER_REPO_PATH + \"test_document.FCStd\")\n",
    "render_document(doc)"
   ]
  },
  {
   "cell_type": "markdown",
   "metadata": {},
   "source": [
    "# Opening a file created with the FreeCAD dektop app\n",
    "\n",
    "Created with FreeCAD 0.18 on MacOS"
   ]
  },
  {
   "cell_type": "code",
   "execution_count": 9,
   "metadata": {},
   "outputs": [
    {
     "data": {
      "application/vnd.jupyter.widget-view+json": {
       "model_id": "1377ed110dc24ea588d8caddd356a7cb",
       "version_major": 2,
       "version_minor": 0
      },
      "text/plain": [
       "Renderer(camera=PerspectiveCamera(fov=40.0, position=(0.0, -40.0, 20.0), quaternion=(0.0, 0.0, 0.0, 1.0), scal…"
      ]
     },
     "metadata": {},
     "output_type": "display_data"
    },
    {
     "data": {
      "application/vnd.jupyter.widget-view+json": {
       "model_id": "1eeb6ba86a2b44f181051808b5545c37",
       "version_major": 2,
       "version_minor": 0
      },
      "text/plain": [
       "HTML(value='<b>No selection.</b>')"
      ]
     },
     "metadata": {},
     "output_type": "display_data"
    }
   ],
   "source": [
    "doc = FreeCAD.openDocument(JUPYTER_REPO_PATH + \"test_freecad_0.18_macos.FCStd\")\n",
    "render_document(doc)"
   ]
  }
 ],
 "metadata": {
  "kernelspec": {
   "display_name": "Python 3",
   "language": "python",
   "name": "python3"
  },
  "language_info": {
   "codemirror_mode": {
    "name": "ipython",
    "version": 3
   },
   "file_extension": ".py",
   "mimetype": "text/x-python",
   "name": "python",
   "nbconvert_exporter": "python",
   "pygments_lexer": "ipython3",
   "version": "3.7.3"
  }
 },
 "nbformat": 4,
 "nbformat_minor": 2
}
