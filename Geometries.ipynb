{
 "cells": [
  {
   "cell_type": "code",
   "execution_count": 1,
   "metadata": {},
   "outputs": [],
   "source": [
    "from pythreejs import *\n",
    "from IPython.display import display\n",
    "from math import pi\n",
    "import numpy as np"
   ]
  },
  {
   "cell_type": "markdown",
   "metadata": {},
   "source": [
    "This test examines the inner workings of the Geometry classes\n",
    "Geometries should be creatable via the helper extras/Geometries classes\n",
    "as well as procedurally creating the vertices yourself"
   ]
  },
  {
   "cell_type": "code",
   "execution_count": 2,
   "metadata": {},
   "outputs": [],
   "source": [
    "g = BoxGeometry(\n",
    "    width=5, \n",
    "    height=10, \n",
    "    depth=15,\n",
    "    widthSegments=5, \n",
    "    heightSegments=10,\n",
    "    depthSegments=15)"
   ]
  },
  {
   "cell_type": "code",
   "execution_count": 3,
   "metadata": {},
   "outputs": [
    {
     "data": {
      "application/vnd.jupyter.widget-view+json": {
       "model_id": "4f76669146fe4eb893d86dbdf858d3b7",
       "version_major": 2,
       "version_minor": 0
      },
      "text/plain": [
       "Preview(child=BoxGeometry(depth=15.0, depthSegments=15, height=10.0, heightSegments=10, width=5.0, widthSegmen…"
      ]
     },
     "metadata": {},
     "output_type": "display_data"
    }
   ],
   "source": [
    "g"
   ]
  },
  {
   "cell_type": "code",
   "execution_count": 4,
   "metadata": {},
   "outputs": [],
   "source": [
    "g2 = Geometry.from_geometry(g)"
   ]
  },
  {
   "cell_type": "code",
   "execution_count": 5,
   "metadata": {},
   "outputs": [
    {
     "data": {
      "text/plain": [
       "((0,), 0)"
      ]
     },
     "execution_count": 5,
     "metadata": {},
     "output_type": "execute_result"
    }
   ],
   "source": [
    "np.shape(g2.vertices), len(g2.faces)"
   ]
  },
  {
   "cell_type": "code",
   "execution_count": 6,
   "metadata": {},
   "outputs": [
    {
     "data": {
      "application/vnd.jupyter.widget-view+json": {
       "model_id": "1affca8b696c456591e54fb9c38b19e3",
       "version_major": 2,
       "version_minor": 0
      },
      "text/plain": [
       "Preview(child=Geometry(colors=['#ffffff']), shadowMap=WebGLShadowMap())"
      ]
     },
     "metadata": {},
     "output_type": "display_data"
    }
   ],
   "source": [
    "g2"
   ]
  },
  {
   "cell_type": "code",
   "execution_count": 7,
   "metadata": {},
   "outputs": [],
   "source": [
    "g3 = Geometry(vertices=g2.vertices[:], faces=g2.faces[:])"
   ]
  },
  {
   "cell_type": "code",
   "execution_count": 8,
   "metadata": {},
   "outputs": [
    {
     "data": {
      "application/vnd.jupyter.widget-view+json": {
       "model_id": "3749a43f97bf477cba990caa9881a1f4",
       "version_major": 2,
       "version_minor": 0
      },
      "text/plain": [
       "Preview(child=Geometry(colors=['#ffffff']), shadowMap=WebGLShadowMap())"
      ]
     },
     "metadata": {},
     "output_type": "display_data"
    }
   ],
   "source": [
    "g3"
   ]
  },
  {
   "cell_type": "code",
   "execution_count": 9,
   "metadata": {},
   "outputs": [
    {
     "data": {
      "text/plain": [
       "()"
      ]
     },
     "execution_count": 9,
     "metadata": {},
     "output_type": "execute_result"
    }
   ],
   "source": [
    "g2.faces"
   ]
  },
  {
   "cell_type": "code",
   "execution_count": 10,
   "metadata": {},
   "outputs": [
    {
     "data": {
      "application/vnd.jupyter.widget-view+json": {
       "model_id": "92a7c06acf92421aba041c58442ad7d7",
       "version_major": 2,
       "version_minor": 0
      },
      "text/plain": [
       "Preview(child=Geometry(colors=['#ffffff'], faces=((0, 1, 2, None, ('#000000', '#0000ff', '#00ff00'), None), (1…"
      ]
     },
     "metadata": {},
     "output_type": "display_data"
    }
   ],
   "source": [
    "\n",
    "vertices = []\n",
    "vertices.append([-50, 50, 0])\n",
    "vertices.append([50, -50, 0])\n",
    "vertices.append([50, 50, 0])\n",
    "vertices.append([50, 50, 50])\n",
    "normal = Tuple((0,0,1))\n",
    "vertexcolors = ['#000000', '#0000ff', '#00ff00', '#ff0000',\n",
    "     '#00ffff', '#ff00ff', '#ffff00', '#ffffff']\n",
    "face = Tuple((0, 1, 2, normal, vertexcolors))\n",
    "faces = [[0, 1, 2], [1, 2, 3], [3, 0, 1]]\n",
    "faces = [f + [None, [vertexcolors[i] for i in f], None] for f in faces]\n",
    "g3 = Geometry(vertices=vertices, faces=faces)\n",
    "g3"
   ]
  },
  {
   "cell_type": "markdown",
   "metadata": {},
   "source": [
    "## Importing FreeCAD"
   ]
  },
  {
   "cell_type": "code",
   "execution_count": 11,
   "metadata": {},
   "outputs": [],
   "source": [
    "import sys, os\n",
    "\n",
    "JUPYTER_REPO_PATH = \"/opt/jupyter_freecad/\"\n",
    "\n",
    "sys.path.append(\"/opt/freecad/freecad_build/lib\")\n",
    "sys.path.append(JUPYTER_REPO_PATH + \"Jupyter\")\n",
    "\n",
    "import FreeCAD, FreeCADGui\n",
    "FreeCADGui.setupWithoutGUI()"
   ]
  },
  {
   "cell_type": "markdown",
   "metadata": {},
   "source": [
    "Creating a document with objects and a scene graph to be iterated over later on."
   ]
  },
  {
   "cell_type": "code",
   "execution_count": 12,
   "metadata": {},
   "outputs": [],
   "source": [
    "from pivy import *\n",
    "from pivy.gui import soqt\n",
    "\n",
    "VRML_PATH = JUPYTER_REPO_PATH + \"three.js-r117/examples/models/vrml/freecad.wrl\"\n",
    "\n",
    "doc = FreeCAD.newDocument()\n",
    "doc.addObject(\"Part::Box\",\"Box\")\n",
    "doc.addObject(\"Part::Cylinder\",\"Cylinder\")\n",
    "doc.addObject(\"Part::Sphere\",\"Sphere\")\n",
    "doc.addObject(\"Part::Torus\",\"Torus\")\n",
    "doc.recompute()\n",
    "\n",
    "from pivy import coin\n",
    "root = coin.SoSeparator()\n",
    "for obj in doc.Objects:\n",
    "    root.addChild(FreeCADGui.subgraphFromObject(obj))"
   ]
  },
  {
   "cell_type": "markdown",
   "metadata": {},
   "source": [
    "Now we need to go over the scene graph and extract the edges and surfaces. First we grab the wire representation (chosing one of the switch node children. The switch node allows switching between different FreeCAD views such as Mesh, Surface etc.)\n",
    "\n",
    "To view the scene graph in a convenient way open `FreeCAD > Tools > view scene graph`. That's how I selected the following `SoIndexedLineSet` and the corresponding `SoCoordinate3` object. The coordinates all switch children refer to are always the coordinates in the root of the object. So one level below the document root node."
   ]
  },
  {
   "cell_type": "code",
   "execution_count": 13,
   "metadata": {},
   "outputs": [
    {
     "data": {
      "application/vnd.jupyter.widget-view+json": {
       "model_id": "5471a686a786403f982ef75a671c3a79",
       "version_major": 2,
       "version_minor": 0
      },
      "text/plain": [
       "Renderer(camera=PerspectiveCamera(children=(DirectionalLight(position=(20.0, 20.0, 10.0), quaternion=(0.0, 0.0…"
      ]
     },
     "metadata": {},
     "output_type": "display_data"
    }
   ],
   "source": [
    "def so_col_to_hex(so_color):\n",
    "    color = (int(so_color[0]*255), \n",
    "                  int(so_color[1]*255),\n",
    "                  int(so_color[2]*255))\n",
    "    hex_col = \"#{0:02x}{1:02x}{2:02x}\".format(color[0],\n",
    "                                              color[1],\n",
    "                                              color[2])\n",
    "    return hex_col\n",
    "\n",
    "def extract_so_indices(so_node):\n",
    "    \"\"\"\n",
    "    Returns list of indices from pivy.coin\n",
    "    scene objects 'SoIndexedLine' and 'SoIndexedFace'\n",
    "    \"\"\"\n",
    "    faces = list(so_node.coordIndex)\n",
    "    indices = []\n",
    "    curr_line = []\n",
    "    for i in faces:\n",
    "        if i == -1:\n",
    "            indices.append(curr_line)\n",
    "            curr_line = []\n",
    "            continue\n",
    "        curr_line.append(i)\n",
    "    return indices\n",
    "\n",
    "def generate_line_vertices(line_indices, coord_vals):\n",
    "    line_vertices = []\n",
    "    for i in line_indices:\n",
    "        line_vertices.append(coord_vals[i[0]])\n",
    "        line_vertices.append(coord_vals[i[1]])\n",
    "    return line_vertices\n",
    "\n",
    "def extract_faces(obj_node):\n",
    "    # The names in the following comments refer to the\n",
    "    # \"Name\" field in FreeCAS > tools > Scene Inspector\n",
    "    # The types refer to the field \"Inventor Tree\".\n",
    "    so_coord = obj_node[1]\n",
    "    so_wireframe = obj_node[2][2] # Name: Wireframe\n",
    "    so_shaded = obj_node[2][1] # Name: Shaded\n",
    "    so_faces = so_shaded[6] # Type: SoBrepFaceSet\n",
    "    so_wireframe_edges = so_wireframe[0][3] # Type: SoBrepEdgeSet\n",
    "    so_shaded_material = so_shaded[2]\n",
    "    so_wireframe_material = so_wireframe[0][1]\n",
    "    coords = list(so_coord.point)\n",
    "\n",
    "    #print(lines)\n",
    "    #print(coords)\n",
    "    #print(so_coord)\n",
    "    #print(so_lines)\n",
    "    so_shaded_color = so_shaded_material.ambientColor.getValues()[0]\n",
    "    so_shaded_emissive_color = so_shaded_material.emissiveColor.getValues()[0]\n",
    "    so_wireframe_color = so_wireframe_material.ambientColor.getValues()[0]\n",
    "    face_color = (so_shaded_color[0], so_shaded_color[1], so_shaded_color[2])\n",
    "    face_emissive_color = (so_shaded_color[0], so_shaded_color[1], so_shaded_color[2])\n",
    "    line_color = (so_wireframe_color[0], so_wireframe_color[1], so_wireframe_color[2])\n",
    "    face_color = so_col_to_hex(face_color)\n",
    "    face_emissive_color = so_col_to_hex(face_emissive_color)\n",
    "    line_color = so_col_to_hex(line_color)\n",
    "    face_transparency = so_shaded_material.transparency[0]\n",
    "\n",
    "    \"\"\"\n",
    "    print(face_emissive_color)\n",
    "    print(line_color)\n",
    "    print(so_wireframe_edges)\n",
    "    print(face_color)\n",
    "    print(so_shaded_color[3] == face_transparency)\n",
    "    print(list(so_shaded_material.shininess))\n",
    "    print(list(so_shaded_material.emissiveColor))\n",
    "    print(face_transparency)\n",
    "    print(list(so_shaded_material.specularColor))\n",
    "    print(list(so_shaded_material.diffuseColor))\n",
    "    \"\"\"\n",
    "\n",
    "\n",
    "    coord_vals = [list(x) for x in coords]\n",
    "    \n",
    "    face_indices = extract_so_indices(so_faces)\n",
    "    line_indices = extract_so_indices(so_wireframe_edges)\n",
    "    line_vertices = generate_line_vertices(line_indices, coord_vals)\n",
    "\n",
    "    #print(face_indices)\n",
    "    #print(coord_vals)\n",
    "    return coord_vals, face_indices, line_vertices, face_color, line_color, face_transparency\n",
    "\n",
    "def create_geometry(obj_node):\n",
    "    coord_vals, face_indices, line_vertices, face_color, line_color, face_transparency = extract_faces(obj_node)\n",
    "    \n",
    "    vertices = np.asarray(coord_vals, dtype='float32')\n",
    "    faces = np.asarray(face_indices, dtype='uint16').ravel()  # We need to flatten index array\n",
    "    vertexcolors = np.asarray([(1,0,0)]*len(coord_vals), dtype='float32')\n",
    "\n",
    "    faceGeometry = BufferGeometry(attributes=dict(\n",
    "        position=BufferAttribute(vertices, normalized=False),\n",
    "        index=BufferAttribute(faces, normalized=False),\n",
    "        colors=BufferAttribute(vertexcolors)\n",
    "    ))\n",
    "    \n",
    "    faceGeometry.exec_three_obj_method('computeFaceNormals')\n",
    "\n",
    "\n",
    "    object_mesh = Mesh(\n",
    "        geometry=faceGeometry,\n",
    "        material=MeshLambertMaterial(color=face_color, opacity=face_transparency),\n",
    "        position=[0,0,0]   # Center the cube\n",
    "    )\n",
    "    \n",
    "    linesgeom = Geometry(vertices=line_vertices)\n",
    "    lines = Line(geometry=linesgeom, \n",
    "             material=LineBasicMaterial(linewidth=5, color=line_color), \n",
    "             type='LinePieces',\n",
    "            )\n",
    "    return [object_mesh, lines]\n",
    "\n",
    "def render_objects(root_node):\n",
    "    geometries = []\n",
    "    for node in root_node:\n",
    "        if type(node) is coin.SoSeparator:\n",
    "            res = create_geometry(node)\n",
    "            geometries.extend(res)\n",
    "    camera = PerspectiveCamera(\n",
    "        position=[40, 40, 40], fov=40,\n",
    "        children=[DirectionalLight(color='#ffffff', position=[20, 20, 10], intensity=1)])\n",
    "    children = [camera, AmbientLight(color='#ffffff')]\n",
    "    children.extend(geometries)\n",
    "    scene = Scene(children=children)\n",
    "    controls = [OrbitControls(controlling=camera)]\n",
    "\n",
    "    renderer = Renderer(camera=camera, background='black', background_opacity=1,\n",
    "                        scene=scene, controls=controls,\n",
    "                        width=900, height=900)\n",
    "    return renderer\n",
    "\n",
    "render_objects(root)"
   ]
  },
  {
   "cell_type": "code",
   "execution_count": null,
   "metadata": {},
   "outputs": [],
   "source": []
  }
 ],
 "metadata": {
  "kernelspec": {
   "display_name": "Python 3",
   "language": "python",
   "name": "python3"
  },
  "language_info": {
   "codemirror_mode": {
    "name": "ipython",
    "version": 3
   },
   "file_extension": ".py",
   "mimetype": "text/x-python",
   "name": "python",
   "nbconvert_exporter": "python",
   "pygments_lexer": "ipython3",
   "version": "3.7.3"
  }
 },
 "nbformat": 4,
 "nbformat_minor": 2
}
