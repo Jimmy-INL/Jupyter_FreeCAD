{
 "cells": [
  {
   "cell_type": "code",
   "execution_count": 1,
   "metadata": {},
   "outputs": [],
   "source": [
    "from pythreejs import *\n",
    "from IPython.display import display\n",
    "from math import pi\n",
    "import numpy as np"
   ]
  },
  {
   "cell_type": "markdown",
   "metadata": {},
   "source": [
    "This test examines the inner workings of the Geometry classes\n",
    "Geometries should be creatable via the helper extras/Geometries classes\n",
    "as well as procedurally creating the vertices yourself"
   ]
  },
  {
   "cell_type": "code",
   "execution_count": 2,
   "metadata": {},
   "outputs": [],
   "source": [
    "g = BoxGeometry(\n",
    "    width=5, \n",
    "    height=10, \n",
    "    depth=15,\n",
    "    widthSegments=5, \n",
    "    heightSegments=10,\n",
    "    depthSegments=15)"
   ]
  },
  {
   "cell_type": "code",
   "execution_count": 3,
   "metadata": {},
   "outputs": [
    {
     "data": {
      "application/vnd.jupyter.widget-view+json": {
       "model_id": "dab1c2266acd4391b4d1814f85d3e05c",
       "version_major": 2,
       "version_minor": 0
      },
      "text/plain": [
       "Preview(child=BoxGeometry(depth=15.0, depthSegments=15, height=10.0, heightSegments=10, width=5.0, widthSegmen…"
      ]
     },
     "metadata": {},
     "output_type": "display_data"
    }
   ],
   "source": [
    "g"
   ]
  },
  {
   "cell_type": "code",
   "execution_count": 4,
   "metadata": {},
   "outputs": [],
   "source": [
    "g2 = Geometry.from_geometry(g)"
   ]
  },
  {
   "cell_type": "code",
   "execution_count": 5,
   "metadata": {},
   "outputs": [
    {
     "data": {
      "text/plain": [
       "((0,), 0)"
      ]
     },
     "execution_count": 5,
     "metadata": {},
     "output_type": "execute_result"
    }
   ],
   "source": [
    "np.shape(g2.vertices), len(g2.faces)"
   ]
  },
  {
   "cell_type": "code",
   "execution_count": 6,
   "metadata": {},
   "outputs": [
    {
     "data": {
      "application/vnd.jupyter.widget-view+json": {
       "model_id": "ecf08c8541b54d07a1470404c5d37308",
       "version_major": 2,
       "version_minor": 0
      },
      "text/plain": [
       "Preview(child=Geometry(colors=['#ffffff']), shadowMap=WebGLShadowMap())"
      ]
     },
     "metadata": {},
     "output_type": "display_data"
    }
   ],
   "source": [
    "g2"
   ]
  },
  {
   "cell_type": "code",
   "execution_count": 7,
   "metadata": {},
   "outputs": [],
   "source": [
    "g3 = Geometry(vertices=g2.vertices[:], faces=g2.faces[:])"
   ]
  },
  {
   "cell_type": "code",
   "execution_count": 8,
   "metadata": {},
   "outputs": [
    {
     "data": {
      "application/vnd.jupyter.widget-view+json": {
       "model_id": "cc86432ca09844858dc1716f8627217d",
       "version_major": 2,
       "version_minor": 0
      },
      "text/plain": [
       "Preview(child=Geometry(colors=['#ffffff']), shadowMap=WebGLShadowMap())"
      ]
     },
     "metadata": {},
     "output_type": "display_data"
    }
   ],
   "source": [
    "g3"
   ]
  },
  {
   "cell_type": "code",
   "execution_count": 9,
   "metadata": {},
   "outputs": [
    {
     "data": {
      "text/plain": [
       "()"
      ]
     },
     "execution_count": 9,
     "metadata": {},
     "output_type": "execute_result"
    }
   ],
   "source": [
    "g2.faces"
   ]
  },
  {
   "cell_type": "code",
   "execution_count": 10,
   "metadata": {},
   "outputs": [
    {
     "data": {
      "application/vnd.jupyter.widget-view+json": {
       "model_id": "b4ee80b701c741989d7fd9175e3b139d",
       "version_major": 2,
       "version_minor": 0
      },
      "text/plain": [
       "Preview(child=Geometry(colors=['#ffffff'], faces=((0, 1, 2, None, ('#000000', '#0000ff', '#00ff00'), None), (1…"
      ]
     },
     "metadata": {},
     "output_type": "display_data"
    }
   ],
   "source": [
    "\n",
    "vertices = []\n",
    "vertices.append([-50, 50, 0])\n",
    "vertices.append([50, -50, 0])\n",
    "vertices.append([50, 50, 0])\n",
    "vertices.append([50, 50, 50])\n",
    "normal = Tuple((0,0,1))\n",
    "vertexcolors = ['#000000', '#0000ff', '#00ff00', '#ff0000',\n",
    "     '#00ffff', '#ff00ff', '#ffff00', '#ffffff']\n",
    "face = Tuple((0, 1, 2, normal, vertexcolors))\n",
    "faces = [[0, 1, 2], [1, 2, 3], [3, 0, 1]]\n",
    "faces = [f + [None, [vertexcolors[i] for i in f], None] for f in faces]\n",
    "g3 = Geometry(vertices=vertices, faces=faces)\n",
    "g3"
   ]
  },
  {
   "cell_type": "markdown",
   "metadata": {},
   "source": [
    "## Importing FreeCAD"
   ]
  },
  {
   "cell_type": "code",
   "execution_count": 11,
   "metadata": {},
   "outputs": [],
   "source": [
    "import sys, os\n",
    "\n",
    "JUPYTER_REPO_PATH = \"/opt/jupyter_freecad/\"\n",
    "\n",
    "sys.path.append(\"/opt/freecad/freecad_build/lib\")\n",
    "sys.path.append(JUPYTER_REPO_PATH + \"Jupyter\")\n",
    "\n",
    "import FreeCAD, FreeCADGui\n",
    "FreeCADGui.setupWithoutGUI()"
   ]
  },
  {
   "cell_type": "markdown",
   "metadata": {},
   "source": [
    "Creating a document with objects and a scene graph to be iterated over later on."
   ]
  },
  {
   "cell_type": "code",
   "execution_count": 12,
   "metadata": {},
   "outputs": [],
   "source": [
    "from pivy import *\n",
    "from pivy.gui import soqt\n",
    "\n",
    "doc = FreeCAD.newDocument()\n",
    "doc.addObject(\"Part::Box\",\"Box\")\n",
    "doc.addObject(\"Part::Cylinder\",\"Cylinder\")\n",
    "doc.addObject(\"Part::Sphere\",\"Sphere\")\n",
    "doc.addObject(\"Part::Torus\",\"Torus\")\n",
    "doc.recompute()\n",
    "\n",
    "from pivy import coin\n",
    "root = coin.SoSeparator()\n",
    "for obj in doc.Objects:\n",
    "    root.addChild(FreeCADGui.subgraphFromObject(obj))"
   ]
  },
  {
   "cell_type": "markdown",
   "metadata": {},
   "source": [
    "Now we need to go over the scene graph and extract the edges and surfaces. First we grab the wire representation (chosing one of the switch node children. The switch node allows switching between different FreeCAD views such as Mesh, Surface etc.)\n",
    "\n",
    "To view the scene graph in a convenient way open `FreeCAD > Tools > view scene graph`. That's how I selected the following `SoIndexedLineSet` and the corresponding `SoCoordinate3` object. The coordinates all switch children refer to are always the coordinates in the root of the object. So one level below the document root node."
   ]
  },
  {
   "cell_type": "code",
   "execution_count": 42,
   "metadata": {
    "scrolled": false
   },
   "outputs": [
    {
     "name": "stderr",
     "output_type": "stream",
     "text": [
      "/usr/lib/python3/dist-packages/ipykernel_launcher.py:103: RuntimeWarning: invalid value encountered in true_divide\n"
     ]
    },
    {
     "data": {
      "application/vnd.jupyter.widget-view+json": {
       "model_id": "f7de98da28ca4ce4ad2d673de28c118f",
       "version_major": 2,
       "version_minor": 0
      },
      "text/plain": [
       "Renderer(camera=PerspectiveCamera(fov=40.0, position=(40.0, 40.0, 40.0), quaternion=(0.0, 0.0, 0.0, 1.0), scal…"
      ]
     },
     "metadata": {},
     "output_type": "display_data"
    }
   ],
   "source": [
    " def so_col_to_hex(so_color):\n",
    "    color = (int(so_color[0]*255), \n",
    "                  int(so_color[1]*255),\n",
    "                  int(so_color[2]*255))\n",
    "    hex_col = \"#{0:02x}{1:02x}{2:02x}\".format(color[0],\n",
    "                                              color[1],\n",
    "                                              color[2])\n",
    "    return hex_col\n",
    "\n",
    "def transform_indices(so_node):\n",
    "    \"\"\"\n",
    "    Returns list of indices from pivy.coin\n",
    "    scene objects 'SoIndexedLine' and 'SoIndexedFace'\n",
    "    \"\"\"\n",
    "    faces = list(so_node.coordIndex)\n",
    "    indices = []\n",
    "    curr_line = []\n",
    "    for i in faces:\n",
    "        if i == -1:\n",
    "            indices.append(curr_line)\n",
    "            curr_line = []\n",
    "            continue\n",
    "        curr_line.append(i)\n",
    "    return indices\n",
    "\n",
    "def generate_line_vertices(line_indices, coord_vals):\n",
    "    line_vertices = []\n",
    "    for i in line_indices:\n",
    "        line_vertices.append(coord_vals[i[0]])\n",
    "        line_vertices.append(coord_vals[i[1]])\n",
    "    return line_vertices\n",
    "\n",
    "def extract_values(res_tuple):\n",
    "    # The names in the following comments refer to the\n",
    "    # \"Name\" field in FreeCAS > tools > Scene Inspector\n",
    "    # The types refer to the field \"Inventor Tree\".\n",
    "    so_coord = res_tuple[1]\n",
    "    so_faces = res_tuple[0] # Type: SoBrepFaceSet\n",
    "    so_shaded_material = res_tuple[2]\n",
    "    coords = list(so_coord.point)\n",
    "\n",
    "    #print(lines)\n",
    "    #print(coords)\n",
    "    #print(so_coord)\n",
    "    #print(so_lines)\n",
    "    so_shaded_color = so_shaded_material.ambientColor.getValues()[0]\n",
    "    so_shaded_emissive_color = so_shaded_material.emissiveColor.getValues()[0]\n",
    "    color = (so_shaded_color[0], so_shaded_color[1], so_shaded_color[2])\n",
    "    emissive_color = (so_shaded_color[0], so_shaded_color[1], so_shaded_color[2])\n",
    "    color = so_col_to_hex(color)\n",
    "    transparency = so_shaded_material.transparency[0]\n",
    "\n",
    "    \"\"\"\n",
    "    print(face_emissive_color)\n",
    "    print(line_color)\n",
    "    print(face_color)\n",
    "    print(so_shaded_color[3] == face_transparency)\n",
    "    print(list(so_shaded_material.shininess))\n",
    "    print(list(so_shaded_material.emissiveColor))\n",
    "    print(transparency)\n",
    "    print(list(so_shaded_material.specularColor))\n",
    "    print(list(so_shaded_material.diffuseColor))\n",
    "    \"\"\"\n",
    "\n",
    "\n",
    "    coord_vals = [list(x) for x in coords]\n",
    "    indices = transform_indices(so_faces)\n",
    "    \n",
    "    is_line = False\n",
    "    if type(so_faces) is coin.SoIndexedLineSet:\n",
    "        is_line = True\n",
    "    else:\n",
    "        if not (type(so_faces) is coin.SoIndexedFaceSet):\n",
    "            raise Exception(\"Unsupported type of given node: {}\".format(type(so_faces)))\n",
    "\n",
    "    #print(face_indices)\n",
    "    #print(coord_vals)\n",
    "    return coord_vals, indices, color, transparency, is_line\n",
    "\n",
    "def compute_normals(faces, vertices):\n",
    "    \"\"\"\n",
    "    Returns a list of normals for\n",
    "    each vertex.\n",
    "    \n",
    "    Input for N faces\n",
    "    should be numpy array of shape (N, 3)\n",
    "    and for M vertices shape (M, 3) respectively\n",
    "    \"\"\"\n",
    "    normals = np.zeros((len(vertices), 3), dtype='float32')\n",
    "    for face in faces:\n",
    "        v_index_a = face[0]\n",
    "        v_index_b = face[1]\n",
    "        v_index_c = face[2]\n",
    "        vec_a = vertices[v_index_a]\n",
    "        vec_b = vertices[v_index_b]\n",
    "        vec_c = vertices[v_index_c]\n",
    "        vec_a_b = np.subtract(vec_b, vec_a)\n",
    "        vec_a_c = np.subtract(vec_c, vec_a)\n",
    "        dot_p = np.cross(vec_a_b, vec_a_c)\n",
    "        for i in [v_index_a, v_index_b, v_index_c]:\n",
    "            np.add(normals[i], dot_p, normals[i])\n",
    "    for norm in normals:\n",
    "        np.divide(norm, np.linalg.norm(norm), norm)\n",
    "    return normals\n",
    "\n",
    "def create_geometry(res_tuple, show_faces=True, show_lines=False):\n",
    "    coord_vals, indices, color, transparency, is_line = extract_values(res_tuple)\n",
    "\n",
    "    if is_line and show_lines:\n",
    "        # geometry based on coin.IndexedLineSet\n",
    "        geom = create_line_geom(coord_vals, indices, color)\n",
    "    elif not is_line and show_faces:\n",
    "        # geometry based on coin.IndexedFaceSet\n",
    "        geom = create_face_geom(coord_vals, indices, color, transparency)\n",
    "    else:\n",
    "        return []\n",
    "    return [geom]\n",
    "\n",
    "def create_face_geom(coord_vals, face_indices, face_color, transparency):\n",
    "    vertices = np.asarray(coord_vals, dtype='float32')\n",
    "    faces = np.asarray(face_indices, dtype='uint16')\n",
    "\n",
    "    normals = compute_normals(faces, vertices)\n",
    "        \n",
    "    faces = faces.ravel()\n",
    "    vertexcolors = np.asarray([(1,0,0)]*len(coord_vals), dtype='float32')\n",
    "\n",
    "\n",
    "    faceGeometry = BufferGeometry(attributes=dict(\n",
    "        position=BufferAttribute(vertices),\n",
    "        index=BufferAttribute(faces),\n",
    "        normal=BufferAttribute(normals)\n",
    "        #colors=BufferAttribute(vertexcolors)\n",
    "    ))\n",
    "    \n",
    "    faceGeometry.exec_three_obj_method('computeFaceNormals')\n",
    "    faceGeometry.exec_three_obj_method('computeVertexNormals')\n",
    "\n",
    "    object_mesh = Mesh(\n",
    "        geometry=faceGeometry,\n",
    "        material=MeshPhongMaterial(color=face_color, transparency=transparency,depthTest=True, depthWrite=True, metalness=0),\n",
    "        position=[0,0,0]   # Center the cube\n",
    "    )\n",
    "    return object_mesh\n",
    "\n",
    "def create_line_geom(coord_vals, line_indices, line_color):\n",
    "    line_vertices = generate_line_vertices(line_indices, coord_vals)\n",
    "    linesgeom = Geometry(vertices=line_vertices)\n",
    "    linesgeom.exec_three_obj_method('computeVertexNormals')\n",
    "    lines = Line(geometry=linesgeom, \n",
    "                 material=LineBasicMaterial(linewidth=5, color=line_color), \n",
    "                 type='LinePieces')\n",
    "    return lines\n",
    "\n",
    "def bfs_traversal(node, coordinates=None, material=None, index=0, print_tree=False):\n",
    "    if print_tree:\n",
    "        print(str(\"   \" * index) + str(type(node)))\n",
    "    if not (type(node) is coin.SoSwitch or type(node) is coin.SoSeparator):\n",
    "        return []\n",
    "    coords = coordinates\n",
    "    mat = material\n",
    "    edge_face_set = None\n",
    "    for child in node:\n",
    "        if type(child) is coin.SoCoordinate3:\n",
    "            coords = child\n",
    "        if type(child) is coin.SoMaterial:\n",
    "            mat = child\n",
    "        if type(child) is coin.SoIndexedLineSet or type(child) is coin.SoIndexedFaceSet:\n",
    "            edge_face_set = child\n",
    "    res_children = []\n",
    "    for child in node:\n",
    "        res_children.extend(bfs_traversal(child, coords, index=index+1))\n",
    "    if edge_face_set:\n",
    "        res = [(edge_face_set, coords, mat)]\n",
    "    else:\n",
    "        res = []\n",
    "    res.extend(res_children)\n",
    "    return res\n",
    "\n",
    "def get_line_geometries(geometries):\n",
    "    new_geometries = []\n",
    "    for geom in geometries:\n",
    "        line_geom = EdgesGeometry(geom.geometry)\n",
    "        lines = LineSegments(geometry=line_geom, \n",
    "                 material=LineBasicMaterial(linewidth=5, color='#000000'))\n",
    "        new_geometries.append(lines)\n",
    "    return new_geometries\n",
    "\n",
    "def render_objects(root_node, show_line_geom=False):\n",
    "    view_width = 1200\n",
    "    view_height = 1200\n",
    "    geometries = []\n",
    "    rendered_face_set = True\n",
    "    for res in bfs_traversal(root_node):\n",
    "        if type(res) is coin.SoIndexedFaceSet and rendered_face_set:\n",
    "            rendered_face_set = False\n",
    "            continue\n",
    "        elif type(res) is coin.SoIndexedFaceSet:\n",
    "            rendered_face_set = True\n",
    "        geom = create_geometry(res)\n",
    "        if geom:\n",
    "            helper = VertexNormalsHelper(geom[0])\n",
    "            geom.append(helper)\n",
    "        geometries.extend(geom)\n",
    "    \n",
    "    if show_line_geom:\n",
    "        geometries = get_line_geometries(geometries)\n",
    "        \n",
    "    light = PointLight(color=\"white\", position=[40,40,40], intensity=1.0, castShadow=True)\n",
    "    fog = Fog(color=\"#3f7b9d\")\n",
    "    ambient_light = AmbientLight(intensity=0.5)\n",
    "    camera = PerspectiveCamera(\n",
    "        position=[40, 40, 40], fov=40,\n",
    "        aspect=view_width/view_height)\n",
    "    children = [camera, light, ambient_light]\n",
    "    children.extend(geometries)\n",
    "    scene = Scene(children=children)\n",
    "    controls = [OrbitControls(controlling=camera)]\n",
    "\n",
    "    renderer = Renderer(camera=camera,\n",
    "                        scene=scene, controls=controls,\n",
    "                        width=view_width, height=view_height)\n",
    "    renderer.shadowMap.enabled = True\n",
    "    return renderer\n",
    "\n",
    "render_objects(root)"
   ]
  },
  {
   "cell_type": "code",
   "execution_count": null,
   "metadata": {},
   "outputs": [],
   "source": []
  }
 ],
 "metadata": {
  "kernelspec": {
   "display_name": "Python 3",
   "language": "python",
   "name": "python3"
  },
  "language_info": {
   "codemirror_mode": {
    "name": "ipython",
    "version": 3
   },
   "file_extension": ".py",
   "mimetype": "text/x-python",
   "name": "python",
   "nbconvert_exporter": "python",
   "pygments_lexer": "ipython3",
   "version": "3.7.3"
  }
 },
 "nbformat": 4,
 "nbformat_minor": 2
}
