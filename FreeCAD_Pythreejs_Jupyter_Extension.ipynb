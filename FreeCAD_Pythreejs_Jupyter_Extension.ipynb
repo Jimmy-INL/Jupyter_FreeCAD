{
 "cells": [
  {
   "cell_type": "code",
   "execution_count": 1,
   "metadata": {},
   "outputs": [],
   "source": [
    "import first_widget"
   ]
  },
  {
   "cell_type": "code",
   "execution_count": 2,
   "metadata": {},
   "outputs": [
    {
     "data": {
      "application/vnd.jupyter.widget-view+json": {
       "model_id": "6a2de98ff0ad429b8d6caa08026e48d1",
       "version_major": 2,
       "version_minor": 0
      },
      "text/plain": [
       "first_widget()"
      ]
     },
     "metadata": {},
     "output_type": "display_data"
    }
   ],
   "source": [
    "w = first_widget.first_widget()\n",
    "w"
   ]
  },
  {
   "cell_type": "code",
   "execution_count": 3,
   "metadata": {},
   "outputs": [],
   "source": [
    "w.value = \"Lol\""
   ]
  },
  {
   "cell_type": "code",
   "execution_count": 4,
   "metadata": {},
   "outputs": [
    {
     "data": {
      "application/vnd.jupyter.widget-view+json": {
       "model_id": "6a2de98ff0ad429b8d6caa08026e48d1",
       "version_major": 2,
       "version_minor": 0
      },
      "text/plain": [
       "first_widget(value='Lol')"
      ]
     },
     "metadata": {},
     "output_type": "display_data"
    }
   ],
   "source": [
    "w"
   ]
  },
  {
   "cell_type": "code",
   "execution_count": 5,
   "metadata": {},
   "outputs": [
    {
     "data": {
      "application/vnd.jupyter.widget-view+json": {
       "model_id": "b468371b11f047dc8bc687f2d59c1c6e",
       "version_major": 2,
       "version_minor": 0
      },
      "text/plain": [
       "Preview(child=CubicLattice(basis=[(0.0, 0.0, 0.0), (0.5, 0.5, 0.5)], quaternion=(0.0, 0.0, 0.0, 1.0), repetiti…"
      ]
     },
     "metadata": {},
     "output_type": "display_data"
    },
    {
     "data": {
      "application/vnd.jupyter.widget-view+json": {
       "model_id": "b4834e822d5242558e25ec70532db19b",
       "version_major": 2,
       "version_minor": 0
      },
      "text/plain": [
       "Renderer(camera=PerspectiveCamera(aspect=1.5, children=(DirectionalLight(intensity=0.7, position=(-5.0, 5.0, 3…"
      ]
     },
     "metadata": {},
     "output_type": "display_data"
    }
   ],
   "source": [
    "import pythreejs\n",
    "from IPython.display import display\n",
    "from first_widget import CubicLattice\n",
    "\n",
    "lattice = CubicLattice(basis=[[0,0,0], [0.5, 0.5, 0.5]])\n",
    "\n",
    "# Preview the lattice directly:\n",
    "display(lattice)\n",
    "\n",
    "# Or put it in a scene:\n",
    "width=600\n",
    "height=400\n",
    "key_light = pythreejs.DirectionalLight(position=[-5, 5, 3], intensity=0.7)\n",
    "ambient_light = pythreejs.AmbientLight(color='#777777')\n",
    "\n",
    "camera = pythreejs.PerspectiveCamera(\n",
    "    position=[-5, 0, -5],\n",
    "    children=[\n",
    "        # Have the key light follow the camera:\n",
    "        key_light\n",
    "    ],\n",
    "    aspect=width/height,\n",
    ")\n",
    "control = pythreejs.OrbitControls(controlling=camera)\n",
    "\n",
    "scene = pythreejs.Scene(children=[lattice, camera, ambient_light])\n",
    "\n",
    "renderer = pythreejs.Renderer(camera=camera,\n",
    "                              scene=scene,\n",
    "                              controls=[control],\n",
    "                              width=width, height=height)\n",
    "\n",
    "display(renderer)"
   ]
  },
  {
   "cell_type": "code",
   "execution_count": null,
   "metadata": {},
   "outputs": [],
   "source": []
  }
 ],
 "metadata": {
  "kernelspec": {
   "display_name": "Python 3",
   "language": "python",
   "name": "python3"
  },
  "language_info": {
   "codemirror_mode": {
    "name": "ipython",
    "version": 3
   },
   "file_extension": ".py",
   "mimetype": "text/x-python",
   "name": "python",
   "nbconvert_exporter": "python",
   "pygments_lexer": "ipython3",
   "version": "3.7.3"
  }
 },
 "nbformat": 4,
 "nbformat_minor": 2
}
