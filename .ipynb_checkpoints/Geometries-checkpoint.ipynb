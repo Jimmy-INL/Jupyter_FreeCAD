{
 "cells": [
  {
   "cell_type": "code",
   "execution_count": 1,
   "metadata": {},
   "outputs": [],
   "source": [
    "from pythreejs import *\n",
    "from IPython.display import display\n",
    "from math import pi\n",
    "import numpy as np"
   ]
  },
  {
   "cell_type": "markdown",
   "metadata": {},
   "source": [
    "This test examines the inner workings of the Geometry classes\n",
    "Geometries should be creatable via the helper extras/Geometries classes\n",
    "as well as procedurally creating the vertices yourself"
   ]
  },
  {
   "cell_type": "code",
   "execution_count": 2,
   "metadata": {},
   "outputs": [],
   "source": [
    "g = BoxGeometry(\n",
    "    width=5, \n",
    "    height=10, \n",
    "    depth=15,\n",
    "    widthSegments=5, \n",
    "    heightSegments=10,\n",
    "    depthSegments=15)"
   ]
  },
  {
   "cell_type": "code",
   "execution_count": 3,
   "metadata": {},
   "outputs": [
    {
     "data": {
      "application/vnd.jupyter.widget-view+json": {
       "model_id": "986975ba73214f77b21b5095cec9cace",
       "version_major": 2,
       "version_minor": 0
      },
      "text/plain": [
       "Preview(child=BoxGeometry(depth=15.0, depthSegments=15, height=10.0, heightSegments=10, width=5.0, widthSegmen…"
      ]
     },
     "metadata": {},
     "output_type": "display_data"
    }
   ],
   "source": [
    "g"
   ]
  },
  {
   "cell_type": "code",
   "execution_count": 4,
   "metadata": {},
   "outputs": [],
   "source": [
    "g2 = Geometry.from_geometry(g)"
   ]
  },
  {
   "cell_type": "code",
   "execution_count": 5,
   "metadata": {},
   "outputs": [
    {
     "data": {
      "text/plain": [
       "((0,), 0)"
      ]
     },
     "execution_count": 5,
     "metadata": {},
     "output_type": "execute_result"
    }
   ],
   "source": [
    "np.shape(g2.vertices), len(g2.faces)"
   ]
  },
  {
   "cell_type": "code",
   "execution_count": 6,
   "metadata": {},
   "outputs": [
    {
     "data": {
      "application/vnd.jupyter.widget-view+json": {
       "model_id": "36df178da1214771b4966e7970574cf6",
       "version_major": 2,
       "version_minor": 0
      },
      "text/plain": [
       "Preview(child=Geometry(colors=['#ffffff']), shadowMap=WebGLShadowMap())"
      ]
     },
     "metadata": {},
     "output_type": "display_data"
    }
   ],
   "source": [
    "g2"
   ]
  },
  {
   "cell_type": "code",
   "execution_count": 7,
   "metadata": {},
   "outputs": [],
   "source": [
    "g3 = Geometry(vertices=g2.vertices[:], faces=g2.faces[:])"
   ]
  },
  {
   "cell_type": "code",
   "execution_count": 8,
   "metadata": {},
   "outputs": [
    {
     "data": {
      "application/vnd.jupyter.widget-view+json": {
       "model_id": "63d14cb19d4a474a9f69a704b6f44210",
       "version_major": 2,
       "version_minor": 0
      },
      "text/plain": [
       "Preview(child=Geometry(colors=['#ffffff']), shadowMap=WebGLShadowMap())"
      ]
     },
     "metadata": {},
     "output_type": "display_data"
    }
   ],
   "source": [
    "g3"
   ]
  },
  {
   "cell_type": "code",
   "execution_count": 9,
   "metadata": {},
   "outputs": [
    {
     "data": {
      "text/plain": [
       "()"
      ]
     },
     "execution_count": 9,
     "metadata": {},
     "output_type": "execute_result"
    }
   ],
   "source": [
    "g2.faces"
   ]
  },
  {
   "cell_type": "code",
   "execution_count": 10,
   "metadata": {},
   "outputs": [
    {
     "data": {
      "application/vnd.jupyter.widget-view+json": {
       "model_id": "5391d710aaac4b059388852a4c3dbb25",
       "version_major": 2,
       "version_minor": 0
      },
      "text/plain": [
       "Preview(child=Geometry(colors=['#ffffff'], faces=((0, 1, 2, None, ('#000000', '#0000ff', '#00ff00'), None), (1…"
      ]
     },
     "metadata": {},
     "output_type": "display_data"
    }
   ],
   "source": [
    "\n",
    "vertices = []\n",
    "vertices.append([-50, 50, 0])\n",
    "vertices.append([50, -50, 0])\n",
    "vertices.append([50, 50, 0])\n",
    "vertices.append([50, 50, 50])\n",
    "normal = Tuple((0,0,1))\n",
    "vertexcolors = ['#000000', '#0000ff', '#00ff00', '#ff0000',\n",
    "     '#00ffff', '#ff00ff', '#ffff00', '#ffffff']\n",
    "face = Tuple((0, 1, 2, normal, vertexcolors))\n",
    "faces = [[0, 1, 2], [1, 2, 3], [3, 0, 1]]\n",
    "faces = [f + [None, [vertexcolors[i] for i in f], None] for f in faces]\n",
    "g3 = Geometry(vertices=vertices, faces=faces)\n",
    "g3"
   ]
  },
  {
   "cell_type": "markdown",
   "metadata": {},
   "source": [
    "## Importing FreeCAD"
   ]
  },
  {
   "cell_type": "code",
   "execution_count": 11,
   "metadata": {},
   "outputs": [],
   "source": [
    "import sys, os\n",
    "\n",
    "JUPYTER_REPO_PATH = \"/opt/jupyter_freecad/\"\n",
    "\n",
    "sys.path.append(\"/opt/freecad/freecad_build/lib\")\n",
    "sys.path.append(JUPYTER_REPO_PATH + \"Jupyter\")\n",
    "\n",
    "import FreeCAD, FreeCADGui\n",
    "FreeCADGui.setupWithoutGUI()"
   ]
  },
  {
   "cell_type": "markdown",
   "metadata": {},
   "source": [
    "Creating a document with objects and a scene graph to be iterated over later on."
   ]
  },
  {
   "cell_type": "code",
   "execution_count": 12,
   "metadata": {},
   "outputs": [],
   "source": [
    "from pivy import *\n",
    "from pivy.gui import soqt\n",
    "\n",
    "VRML_PATH = JUPYTER_REPO_PATH + \"three.js-r117/examples/models/vrml/freecad.wrl\"\n",
    "\n",
    "doc = FreeCAD.newDocument()\n",
    "doc.addObject(\"Part::Box\",\"Box\")\n",
    "doc.addObject(\"Part::Cylinder\",\"Cylinder\")\n",
    "doc.addObject(\"Part::Sphere\",\"Sphere\")\n",
    "doc.addObject(\"Part::Torus\",\"Torus\")\n",
    "doc.recompute()\n",
    "\n",
    "from pivy import coin\n",
    "root = coin.SoSeparator()\n",
    "for obj in doc.Objects:\n",
    "    root.addChild(FreeCADGui.subgraphFromObject(obj))"
   ]
  },
  {
   "cell_type": "markdown",
   "metadata": {},
   "source": [
    "Now we need to go over the scene graph and extract the edges and surfaces. First we grab the wire representation (chosing one of the switch node children. The switch node allows switching between different FreeCAD views such as Mesh, Surface etc.)\n",
    "\n",
    "To view the scene graph in a convenient way open `FreeCAD > Tools > view scene graph`. That's how I selected the following `SoIndexedLineSet` and the corresponding `SoCoordinate3` object. The coordinates all switch children refer to are always the coordinates in the root of the object. So one level below the document root node."
   ]
  },
  {
   "cell_type": "code",
   "execution_count": 20,
   "metadata": {},
   "outputs": [
    {
     "name": "stdout",
     "output_type": "stream",
     "text": [
      "[0, 1, -1, 1, 2, -1, 3, 2, -1, 0, 3, -1, 4, 5, -1, 5, 6, -1, 7, 6, -1, 4, 7, -1, 8, 9, -1, 11, 10, -1, 12, 13, -1, 15, 14, -1]\n",
      "[<pivy.coin.SbVec3f; proxy of <Swig Object of type 'SbVec3f *' at 0x7f7ea7da3a80> >, <pivy.coin.SbVec3f; proxy of <Swig Object of type 'SbVec3f *' at 0x7f7e93a3fea0> >, <pivy.coin.SbVec3f; proxy of <Swig Object of type 'SbVec3f *' at 0x7f7e93a3ffc0> >, <pivy.coin.SbVec3f; proxy of <Swig Object of type 'SbVec3f *' at 0x7f7e93a3fed0> >, <pivy.coin.SbVec3f; proxy of <Swig Object of type 'SbVec3f *' at 0x7f7ec50edb40> >, <pivy.coin.SbVec3f; proxy of <Swig Object of type 'SbVec3f *' at 0x7f7ec50ed630> >, <pivy.coin.SbVec3f; proxy of <Swig Object of type 'SbVec3f *' at 0x7f7ec50eddb0> >, <pivy.coin.SbVec3f; proxy of <Swig Object of type 'SbVec3f *' at 0x7f7ec50edb70> >, <pivy.coin.SbVec3f; proxy of <Swig Object of type 'SbVec3f *' at 0x7f7ec50edd80> >, <pivy.coin.SbVec3f; proxy of <Swig Object of type 'SbVec3f *' at 0x7f7ec50edab0> >, <pivy.coin.SbVec3f; proxy of <Swig Object of type 'SbVec3f *' at 0x7f7ec50eda20> >, <pivy.coin.SbVec3f; proxy of <Swig Object of type 'SbVec3f *' at 0x7f7ea7dbc0c0> >, <pivy.coin.SbVec3f; proxy of <Swig Object of type 'SbVec3f *' at 0x7f7ea7dbc840> >, <pivy.coin.SbVec3f; proxy of <Swig Object of type 'SbVec3f *' at 0x7f7ea7dbc150> >, <pivy.coin.SbVec3f; proxy of <Swig Object of type 'SbVec3f *' at 0x7f7ea7dbc0f0> >, <pivy.coin.SbVec3f; proxy of <Swig Object of type 'SbVec3f *' at 0x7f7ea7dbc720> >, <pivy.coin.SbVec3f; proxy of <Swig Object of type 'SbVec3f *' at 0x7f7ea7dbc870> >, <pivy.coin.SbVec3f; proxy of <Swig Object of type 'SbVec3f *' at 0x7f7ea7dbc8a0> >, <pivy.coin.SbVec3f; proxy of <Swig Object of type 'SbVec3f *' at 0x7f7ea7dbc120> >, <pivy.coin.SbVec3f; proxy of <Swig Object of type 'SbVec3f *' at 0x7f7ea7dbc090> >, <pivy.coin.SbVec3f; proxy of <Swig Object of type 'SbVec3f *' at 0x7f7ea7dbc7b0> >, <pivy.coin.SbVec3f; proxy of <Swig Object of type 'SbVec3f *' at 0x7f7ea7dbc630> >, <pivy.coin.SbVec3f; proxy of <Swig Object of type 'SbVec3f *' at 0x7f7ea7dbc810> >, <pivy.coin.SbVec3f; proxy of <Swig Object of type 'SbVec3f *' at 0x7f7ea7dbc7e0> >, <pivy.coin.SbVec3f; proxy of <Swig Object of type 'SbVec3f *' at 0x7f7ea7dbc6c0> >, <pivy.coin.SbVec3f; proxy of <Swig Object of type 'SbVec3f *' at 0x7f7ea7dbc660> >, <pivy.coin.SbVec3f; proxy of <Swig Object of type 'SbVec3f *' at 0x7f7ea7dbc780> >, <pivy.coin.SbVec3f; proxy of <Swig Object of type 'SbVec3f *' at 0x7f7ea7dbc060> >, <pivy.coin.SbVec3f; proxy of <Swig Object of type 'SbVec3f *' at 0x7f7ea7dbc5d0> >, <pivy.coin.SbVec3f; proxy of <Swig Object of type 'SbVec3f *' at 0x7f7ea7dbc690> >, <pivy.coin.SbVec3f; proxy of <Swig Object of type 'SbVec3f *' at 0x7f7ea7dbc6f0> >, <pivy.coin.SbVec3f; proxy of <Swig Object of type 'SbVec3f *' at 0x7f7ea7dbc600> >]\n",
      "<pivy.coin.SoCoordinate3; proxy of <Swig Object of type 'SoCoordinate3 *' at 0x7f7e93a3fae0> >\n",
      "<pivy.coin.SoIndexedLineSet; proxy of <Swig Object of type 'SoIndexedLineSet *' at 0x7f7e93a3fdb0> >\n"
     ]
    }
   ],
   "source": [
    "obj = list(root[0])\n",
    "so_coord = obj[1]\n",
    "so_lines = obj[2][0][1][3]\n",
    "coords = list(so_coord.point)\n",
    "lines = list(so_lines.coordIndex)\n",
    "\n",
    "print(lines)\n",
    "print(coords)\n",
    "print(so_coord)\n",
    "print(so_lines)"
   ]
  },
  {
   "cell_type": "code",
   "execution_count": 21,
   "metadata": {},
   "outputs": [
    {
     "name": "stdout",
     "output_type": "stream",
     "text": [
      "[[0, 1], [1, 2], [3, 2], [0, 3], [4, 5], [5, 6], [7, 6], [4, 7], [8, 9], [11, 10], [12, 13], [15, 14]]\n",
      "[[0.0, 0.0, 0.0], [0.0, 0.0, 10.0], [0.0, 10.0, 10.0], [0.0, 10.0, 0.0], [10.0, 0.0, 0.0], [10.0, 0.0, 10.0], [10.0, 10.0, 10.0], [10.0, 10.0, 0.0], [0.0, 0.0, 0.0], [10.0, 0.0, 0.0], [10.0, 0.0, 10.0], [0.0, 0.0, 10.0], [0.0, 10.0, 0.0], [10.0, 10.0, 0.0], [10.0, 10.0, 10.0], [0.0, 10.0, 10.0], [0.0, 0.0, 0.0], [0.0, 10.0, 0.0], [10.0, 10.0, 0.0], [10.0, 0.0, 0.0], [0.0, 0.0, 10.0], [0.0, 10.0, 10.0], [10.0, 10.0, 10.0], [10.0, 0.0, 10.0], [0.0, 0.0, 10.0], [0.0, 0.0, 0.0], [0.0, 10.0, 10.0], [0.0, 10.0, 0.0], [10.0, 0.0, 10.0], [10.0, 0.0, 0.0], [10.0, 10.0, 10.0], [10.0, 10.0, 0.0]]\n"
     ]
    }
   ],
   "source": [
    "line_indices = []\n",
    "coord_vals = [list(x) for x in coords]\n",
    "curr_line = []\n",
    "for i in lines:\n",
    "    if i == -1:\n",
    "        line_indices.append(curr_line)\n",
    "        curr_line = []\n",
    "        continue\n",
    "    curr_line.append(i)\n",
    "\n",
    "vertices = []\n",
    "for i in line_indices:\n",
    "    vertices.append(coord_vals[i[0]])\n",
    "    vertices.append(coord_vals[i[1]])\n",
    "    \n",
    "print(line_indices)\n",
    "print(coord_vals)"
   ]
  },
  {
   "cell_type": "code",
   "execution_count": 27,
   "metadata": {},
   "outputs": [
    {
     "data": {
      "application/vnd.jupyter.widget-view+json": {
       "model_id": "3db247c75b9f40509464641a3e8785c0",
       "version_major": 2,
       "version_minor": 0
      },
      "text/plain": [
       "Renderer(camera=PerspectiveCamera(position=(20.0, 20.0, 20.0), quaternion=(0.0, 0.0, 0.0, 1.0), scale=(1.0, 1.…"
      ]
     },
     "metadata": {},
     "output_type": "display_data"
    }
   ],
   "source": [
    "linesgeom = Geometry(vertices=vertices,\n",
    "                          colors = ['red', 'green', 'yellow']*(len(vertices)//3))\n",
    "lines = Line(geometry=linesgeom, \n",
    "             material=LineBasicMaterial(linewidth=5, vertexColors='VertexColors'), \n",
    "             type='LinePieces',\n",
    "            )\n",
    "scene = Scene(children=[\n",
    "    lines,\n",
    "    DirectionalLight(color='#ccaabb', position=[0,40,0]),\n",
    "    AmbientLight(color='#cccccc'),\n",
    "    ])\n",
    "c = PerspectiveCamera(position=[20, 20, 20])\n",
    "renderer = Renderer(camera=c, background='black', background_opacity=1, scene=scene, controls=[OrbitControls(controlling=c)],\n",
    "                    width=600, height=600)\n",
    "display(renderer)\n",
    "\n"
   ]
  },
  {
   "cell_type": "code",
   "execution_count": 24,
   "metadata": {},
   "outputs": [
    {
     "name": "stdout",
     "output_type": "stream",
     "text": [
      "hello\n"
     ]
    }
   ],
   "source": [
    "print(\"hello\")"
   ]
  },
  {
   "cell_type": "code",
   "execution_count": null,
   "metadata": {},
   "outputs": [],
   "source": []
  },
  {
   "cell_type": "code",
   "execution_count": null,
   "metadata": {},
   "outputs": [],
   "source": []
  }
 ],
 "metadata": {
  "kernelspec": {
   "display_name": "Python 3",
   "language": "python",
   "name": "python3"
  },
  "language_info": {
   "codemirror_mode": {
    "name": "ipython",
    "version": 3
   },
   "file_extension": ".py",
   "mimetype": "text/x-python",
   "name": "python",
   "nbconvert_exporter": "python",
   "pygments_lexer": "ipython3",
   "version": "3.7.3"
  }
 },
 "nbformat": 4,
 "nbformat_minor": 2
}
