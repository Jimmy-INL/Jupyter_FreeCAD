{
 "cells": [
  {
   "cell_type": "markdown",
   "metadata": {},
   "source": [
    "## FreeCAD setup"
   ]
  },
  {
   "cell_type": "code",
   "execution_count": 1,
   "metadata": {},
   "outputs": [],
   "source": [
    "import sys, os\n",
    "\n",
    "JUPYTER_REPO_PATH = \"/opt/jupyter_freecad/\"\n",
    "\n",
    "sys.path.append(\"/opt/freecad/freecad_build/lib\")\n",
    "sys.path.append(JUPYTER_REPO_PATH + \"Jupyter\")\n",
    "\n",
    "import FreeCAD, FreeCADGui\n",
    "FreeCADGui.setupWithoutGUI()"
   ]
  },
  {
   "cell_type": "markdown",
   "metadata": {},
   "source": [
    "## Running a simple test function from the external workbench"
   ]
  },
  {
   "cell_type": "code",
   "execution_count": 2,
   "metadata": {},
   "outputs": [
    {
     "name": "stdout",
     "output_type": "stream",
     "text": [
      "test\n"
     ]
    }
   ],
   "source": [
    "import JupyterTest\n",
    "JupyterTest.test()"
   ]
  },
  {
   "cell_type": "markdown",
   "metadata": {},
   "source": [
    "## Running a test function that displays an interactive WebGL scene inline (using pythree.js)"
   ]
  },
  {
   "cell_type": "code",
   "execution_count": 3,
   "metadata": {
    "scrolled": true
   },
   "outputs": [],
   "source": [
    "JupyterTest.display_js_example()"
   ]
  },
  {
   "cell_type": "markdown",
   "metadata": {},
   "source": [
    "## Creating an object and outputting it's code to the notebook"
   ]
  },
  {
   "cell_type": "markdown",
   "metadata": {
    "pycharm": {
     "name": "#%% md\n"
    }
   },
   "source": [
    "### Outputting VRML with Pivy/Coin3D\n",
    "\n",
    "This unfortunately produces VRML2 that contains errors and can't be read by other programs"
   ]
  },
  {
   "cell_type": "code",
   "execution_count": 4,
   "metadata": {
    "pycharm": {
     "name": "#%%\n"
    }
   },
   "outputs": [
    {
     "ename": "AttributeError",
     "evalue": "module 'FreeCADGui' has no attribute 'subgraphFromObject'",
     "output_type": "error",
     "traceback": [
      "\u001b[0;31m---------------------------------------------------------------------------\u001b[0m",
      "\u001b[0;31mAttributeError\u001b[0m                            Traceback (most recent call last)",
      "\u001b[0;32m<ipython-input-4-149c3832ee10>\u001b[0m in \u001b[0;36m<module>\u001b[0;34m\u001b[0m\n\u001b[1;32m     14\u001b[0m \u001b[0mroot\u001b[0m \u001b[0;34m=\u001b[0m \u001b[0mcoin\u001b[0m\u001b[0;34m.\u001b[0m\u001b[0mSoSeparator\u001b[0m\u001b[0;34m(\u001b[0m\u001b[0;34m)\u001b[0m\u001b[0;34m\u001b[0m\u001b[0;34m\u001b[0m\u001b[0m\n\u001b[1;32m     15\u001b[0m \u001b[0;32mfor\u001b[0m \u001b[0mobj\u001b[0m \u001b[0;32min\u001b[0m \u001b[0mdoc\u001b[0m\u001b[0;34m.\u001b[0m\u001b[0mObjects\u001b[0m\u001b[0;34m:\u001b[0m\u001b[0;34m\u001b[0m\u001b[0;34m\u001b[0m\u001b[0m\n\u001b[0;32m---> 16\u001b[0;31m     \u001b[0mroot\u001b[0m\u001b[0;34m.\u001b[0m\u001b[0maddChild\u001b[0m\u001b[0;34m(\u001b[0m\u001b[0mFreeCADGui\u001b[0m\u001b[0;34m.\u001b[0m\u001b[0msubgraphFromObject\u001b[0m\u001b[0;34m(\u001b[0m\u001b[0mobj\u001b[0m\u001b[0;34m)\u001b[0m\u001b[0;34m)\u001b[0m\u001b[0;34m\u001b[0m\u001b[0;34m\u001b[0m\u001b[0m\n\u001b[0m\u001b[1;32m     17\u001b[0m \u001b[0;34m\u001b[0m\u001b[0m\n\u001b[1;32m     18\u001b[0m \u001b[0;31m# when exporting to VRML2 the Switches must be replaced\u001b[0m\u001b[0;34m\u001b[0m\u001b[0;34m\u001b[0m\u001b[0;34m\u001b[0m\u001b[0m\n",
      "\u001b[0;31mAttributeError\u001b[0m: module 'FreeCADGui' has no attribute 'subgraphFromObject'"
     ]
    }
   ],
   "source": [
    "from pivy import *\n",
    "from pivy.gui import soqt\n",
    "\n",
    "VRML_PATH = JUPYTER_REPO_PATH + \"three.js-r117/examples/models/vrml/freecad.wrl\"\n",
    "\n",
    "doc = FreeCAD.newDocument()\n",
    "doc.addObject(\"Part::Box\",\"Box\")\n",
    "doc.addObject(\"Part::Cylinder\",\"Cylinder\")\n",
    "doc.addObject(\"Part::Sphere\",\"Sphere\")\n",
    "doc.addObject(\"Part::Torus\",\"Torus\")\n",
    "doc.recompute()\n",
    "\n",
    "from pivy import coin\n",
    "root = coin.SoSeparator()\n",
    "for obj in doc.Objects:\n",
    "    root.addChild(FreeCADGui.subgraphFromObject(obj))\n",
    "\n",
    "# when exporting to VRML2 the Switches must be replaced\n",
    "root2 = FreeCADGui.replaceSwitchNodes(root)\n",
    "tovrml2 = coin.SoToVRML2Action()\n",
    "tovrml2.apply(root2)\n",
    "vrmlRoot = tovrml2.getVRML2SceneGraph()\n",
    "\n",
    "out =  coin.SoOutput()\n",
    "out.openFile(VRML_PATH)\n",
    "wa = coin.SoWriteAction(out)\n",
    "wa.apply(vrmlRoot)\n",
    "out.closeFile()"
   ]
  },
  {
   "cell_type": "markdown",
   "metadata": {
    "pycharm": {
     "name": "#%% md\n"
    }
   },
   "source": [
    "### Displaying it using Javascript"
   ]
  },
  {
   "cell_type": "code",
   "execution_count": null,
   "metadata": {},
   "outputs": [],
   "source": [
    "VRML_PATH_EXP = JUPYTER_REPO_PATH + \"three.js-r117/examples/models/vrml/freecad_exported.wrl\"\n",
    "#FreeCADGui.export(doc, VRML_PATH_EXP)"
   ]
  },
  {
   "cell_type": "markdown",
   "metadata": {},
   "source": [
    "## Outputting VRML with FreeCADGui.export\n",
    "\n",
    "This produces a working result."
   ]
  },
  {
   "cell_type": "code",
   "execution_count": null,
   "metadata": {
    "pycharm": {
     "name": "#%%\n"
    }
   },
   "outputs": [],
   "source": [
    "from IPython.display import HTML\n",
    "\n",
    "vrml = open(VRML_PATH).read()\n",
    "#now some formatting so this is proper HTML\n",
    "vrml = vrml.replace(\"\\n\", \"<br>\")\n",
    "vrml = vrml.replace(\" \", \"&nbsp;\")\n",
    "\n",
    "input_form = \"\"\"\n",
    "<div id=\"vrml\"/>\n",
    "\"\"\"\n",
    "\n",
    "javascript = \"\"\"\n",
    "<script>\n",
    "document.getElementById('vrml').innerHTML = `\n",
    "{}\n",
    "`;\n",
    "</script>\n",
    "\"\"\".format(vrml)\n",
    "HTML(input_form + javascript)"
   ]
  },
  {
   "cell_type": "markdown",
   "metadata": {
    "pycharm": {
     "name": "#%% md\n"
    }
   },
   "source": [
    "## Run three.js example to display VRML (manually edited)\n",
    "\n",
    "Then visit http://freecad.kryptokommun.ist:8080/examples/webgl_loader_vrml.html to see the rendering of the file at `three.js-r117/examples/models/vrml/freecad_exported.wrl`"
   ]
  },
  {
   "cell_type": "markdown",
   "metadata": {},
   "source": [
    "import os\n",
    "os.chdir(\"three.js-r117\")\n",
    "os.getcwd()"
   ]
  },
  {
   "cell_type": "code",
   "execution_count": null,
   "metadata": {
    "pycharm": {
     "name": "#%%\n"
    }
   },
   "outputs": [
    {
     "data": {
      "text/plain": [
       "'/opt/jupyter_freecad/three.js-r117'"
      ]
     },
     "execution_count": 7,
     "metadata": {},
     "output_type": "execute_result"
    }
   ],
   "source": [
    "import subprocess\n",
    "p = subprocess.Popen([\"python3\", \"-m\", \"http.server\", \"8080\"], stdout=subprocess.PIPE)"
   ]
  },
  {
   "cell_type": "code",
   "execution_count": null,
   "metadata": {
    "pycharm": {
     "name": "#%%\n"
    }
   },
   "outputs": [],
   "source": []
  },
  {
   "cell_type": "code",
   "execution_count": null,
   "metadata": {
    "pycharm": {
     "name": "#%% md\n"
    }
   },
   "outputs": [],
   "source": []
  },
  {
   "cell_type": "code",
   "execution_count": null,
   "metadata": {},
   "outputs": [],
   "source": [
    "import subprocess\n",
    "p = subprocess.Popen([\"python3\", \"-m\", \"http.server\", \"7777\"], stdout=subprocess.PIPE)"
   ]
  },
  {
   "cell_type": "code",
   "execution_count": null,
   "metadata": {},
   "outputs": [],
   "source": []
  },
  {
   "cell_type": "code",
   "execution_count": null,
   "metadata": {},
   "outputs": [],
   "source": []
  }
 ],
 "metadata": {
  "kernelspec": {
   "display_name": "Python 3",
   "language": "python",
   "name": "python3"
  },
  "language_info": {
   "codemirror_mode": {
    "name": "ipython",
    "version": 3
   },
   "file_extension": ".py",
   "mimetype": "text/x-python",
   "name": "python",
   "nbconvert_exporter": "python",
   "pygments_lexer": "ipython3",
   "version": "3.7.3"
  }
 },
 "nbformat": 4,
 "nbformat_minor": 2
}
